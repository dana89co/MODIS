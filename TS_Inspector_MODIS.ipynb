{
 "cells": [
  {
   "cell_type": "code",
   "execution_count": null,
   "metadata": {},
   "outputs": [],
   "source": [
    "import geemap\n",
    "import os\n",
    "import ee"
   ]
  },
  {
   "cell_type": "code",
   "execution_count": null,
   "metadata": {},
   "outputs": [],
   "source": [
    "Map = geemap.Map()\n",
    "Map"
   ]
  },
  {
   "cell_type": "code",
   "execution_count": null,
   "metadata": {},
   "outputs": [],
   "source": [
    "out_dir = os.path.join(os.path.expanduser(\"~\"), 'Downloads')\n",
    "if not os.path.exists(out_dir):\n",
    "    os.makedirs(out_dir)\n",
    "\n",
    "MODIS = ee.ImageCollection('MODIS/006/MCD12Q1')"
   ]
  },
  {
   "cell_type": "markdown",
   "metadata": {},
   "source": [
    "### Check how it looks for the first image on the collection"
   ]
  },
  {
   "cell_type": "code",
   "execution_count": null,
   "metadata": {},
   "outputs": [],
   "source": [
    "first_image = MODIS.first()\n",
    "\n",
    "vis = {\n",
    "    'bands': ['LC_Type1'],\n",
    "    'min': 1.0,\n",
    "    'max': 17.0,\n",
    "    'palette': ['05450a', '086a10', '54a708', '78d203', '009900', 'c6b044', 'dcd159',\n",
    "    'dade48', 'fbff13', 'b6ff05', '27ff87', 'c24f44', 'a5a5a5', 'ff6d4c',\n",
    "    '69fff8', 'f9ffa4', '1c0dff'],}\n",
    "\n",
    "Map.addLayer(first_image, vis, 'First image')\n",
    "Map.add_legend(builtin_legend='MODIS/051/MCD12Q1')"
   ]
  },
  {
   "cell_type": "code",
   "execution_count": null,
   "metadata": {},
   "outputs": [],
   "source": [
    "MODIS_layers = MODIS.aggregate_array('system:id').getInfo()\n",
    "print(MODIS_layers)"
   ]
  },
  {
   "cell_type": "markdown",
   "metadata": {},
   "source": [
    "### Create collection with specific years"
   ]
  },
  {
   "cell_type": "code",
   "execution_count": null,
   "metadata": {},
   "outputs": [],
   "source": [
    "MODIS2001 = ee.Image('MODIS/006/MCD12Q1/2001_01_01').select('LC_Type1')\n",
    "MODIS2003 = ee.Image('MODIS/006/MCD12Q1/2003_01_01').select('LC_Type1')\n",
    "MODIS2005 = ee.Image('MODIS/006/MCD12Q1/2005_01_01').select('LC_Type1')\n",
    "MODIS2007 = ee.Image('MODIS/006/MCD12Q1/2007_01_01').select('LC_Type1')\n",
    "MODIS2009 = ee.Image('MODIS/006/MCD12Q1/2009_01_01').select('LC_Type1')\n",
    "MODIS2011 = ee.Image('MODIS/006/MCD12Q1/2011_01_01').select('LC_Type1')\n",
    "MODIS2013 = ee.Image('MODIS/006/MCD12Q1/2013_01_01').select('LC_Type1')\n",
    "MODIS2015 = ee.Image('MODIS/006/MCD12Q1/2015_01_01').select('LC_Type1')\n",
    "MODIS2017 = ee.Image('MODIS/006/MCD12Q1/2017_01_01').select('LC_Type1')\n",
    "\n",
    "MODIS2 = ee.ImageCollection([MODIS2001, MODIS2003, MODIS2005, MODIS2007, MODIS2009, MODIS2011, MODIS2013, MODIS2015, MODIS2017])\n",
    "\n",
    "MODIS2_layer_names = ['MODIS2 ' + str(year) for year in range(2001, 2019, 2)]\n",
    "print(MODIS2_layer_names)\n",
    "print(MODIS2.size().getInfo())"
   ]
  },
  {
   "cell_type": "markdown",
   "metadata": {},
   "source": [
    "### Set the map to the location you want to inspect"
   ]
  },
  {
   "cell_type": "code",
   "execution_count": null,
   "metadata": {},
   "outputs": [],
   "source": [
    "Map2 = geemap.Map(center=[15.066759142205628, 106.84422868614095], zoom=8)\n",
    "Map2"
   ]
  },
  {
   "cell_type": "code",
   "execution_count": null,
   "metadata": {},
   "outputs": [],
   "source": [
    "Map2.ts_inspector(left_ts=MODIS2, right_ts=MODIS2, left_names=MODIS2_layer_names, right_names=MODIS2_layer_names, left_vis=vis, right_vis=vis)\n",
    "Map2.add_legend(builtin_legend='MODIS/051/MCD12Q1')\n"
   ]
  }
 ],
 "metadata": {
  "kernelspec": {
   "display_name": "Python 3",
   "language": "python",
   "name": "python3"
  },
  "language_info": {
   "codemirror_mode": {
    "name": "ipython",
    "version": 3
   },
   "file_extension": ".py",
   "mimetype": "text/x-python",
   "name": "python",
   "nbconvert_exporter": "python",
   "pygments_lexer": "ipython3",
   "version": "3.8.5"
  }
 },
 "nbformat": 4,
 "nbformat_minor": 4
}
