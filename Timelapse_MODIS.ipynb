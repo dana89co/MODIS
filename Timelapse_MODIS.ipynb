{
 "cells": [
  {
   "cell_type": "code",
   "execution_count": null,
   "metadata": {},
   "outputs": [],
   "source": [
    "import geemap\n",
    "import os\n",
    "import ee"
   ]
  },
  {
   "cell_type": "code",
   "execution_count": null,
   "metadata": {},
   "outputs": [],
   "source": [
    "Map = geemap.Map()\n",
    "Map"
   ]
  },
  {
   "cell_type": "code",
   "execution_count": null,
   "metadata": {},
   "outputs": [],
   "source": [
    "out_dir = os.path.join(os.path.expanduser(\"~\"), 'Downloads')\n",
    "if not os.path.exists(out_dir):\n",
    "    os.makedirs(out_dir)\n",
    "\n",
    "MODIS = ee.ImageCollection('MODIS/006/MCD12Q1')"
   ]
  },
  {
   "cell_type": "markdown",
   "metadata": {},
   "source": [
    "### Check first image of collection"
   ]
  },
  {
   "cell_type": "code",
   "execution_count": null,
   "metadata": {},
   "outputs": [],
   "source": [
    "first_image = MODIS.first()\n",
    "\n",
    "vis = {\n",
    "    'bands': ['LC_Type1'],\n",
    "    'min': 1.0,\n",
    "    'max': 17.0,\n",
    "    'palette': ['05450a', '086a10', '54a708', '78d203', '009900', 'c6b044', 'dcd159',\n",
    "    'dade48', 'fbff13', 'b6ff05', '27ff87', 'c24f44', 'a5a5a5', 'ff6d4c',\n",
    "    '69fff8', 'f9ffa4', '1c0dff'],}\n",
    "\n",
    "Map.addLayer(first_image, vis, 'First image')\n",
    "Map.add_legend(builtin_legend='MODIS/051/MCD12Q1')"
   ]
  },
  {
   "cell_type": "markdown",
   "metadata": {},
   "source": [
    "### Create collection with specific years"
   ]
  },
  {
   "cell_type": "code",
   "execution_count": null,
   "metadata": {},
   "outputs": [],
   "source": [
    "MODIS_layers = MODIS.aggregate_array('system:id').getInfo()\n",
    "print(MODIS_layers)"
   ]
  },
  {
   "cell_type": "code",
   "execution_count": null,
   "metadata": {},
   "outputs": [],
   "source": [
    "MODIS2001 = ee.Image('MODIS/006/MCD12Q1/2001_01_01').select('LC_Type1')\n",
    "MODIS2003 = ee.Image('MODIS/006/MCD12Q1/2003_01_01').select('LC_Type1')\n",
    "MODIS2005 = ee.Image('MODIS/006/MCD12Q1/2005_01_01').select('LC_Type1')\n",
    "MODIS2007 = ee.Image('MODIS/006/MCD12Q1/2007_01_01').select('LC_Type1')\n",
    "MODIS2009 = ee.Image('MODIS/006/MCD12Q1/2009_01_01').select('LC_Type1')\n",
    "MODIS2011 = ee.Image('MODIS/006/MCD12Q1/2011_01_01').select('LC_Type1')\n",
    "MODIS2013 = ee.Image('MODIS/006/MCD12Q1/2013_01_01').select('LC_Type1')\n",
    "MODIS2015 = ee.Image('MODIS/006/MCD12Q1/2015_01_01').select('LC_Type1')\n",
    "MODIS2017 = ee.Image('MODIS/006/MCD12Q1/2017_01_01').select('LC_Type1')\n",
    "\n",
    "MODIS2 = ee.ImageCollection([MODIS2001, MODIS2003, MODIS2005, MODIS2007, MODIS2009, MODIS2011, MODIS2013, MODIS2015, MODIS2017])\n",
    "\n",
    "MODIS2_layer_names = ['MODIS2 ' + str(year) for year in range(2001, 2019, 2)]\n",
    "print(MODIS2_layer_names)\n",
    "print(MODIS2.size().getInfo())"
   ]
  },
  {
   "cell_type": "markdown",
   "metadata": {},
   "source": [
    "### Center the map to the region you want to check"
   ]
  },
  {
   "cell_type": "code",
   "execution_count": null,
   "metadata": {},
   "outputs": [],
   "source": [
    "Map3 = geemap.Map(center=[15.066759142205628, 106.84422868614095], zoom=8)\n",
    "Map3"
   ]
  },
  {
   "cell_type": "markdown",
   "metadata": {},
   "source": [
    "### You can select an area in the map and use the draw_last_feature to define roi"
   ]
  },
  {
   "cell_type": "code",
   "execution_count": null,
   "metadata": {},
   "outputs": [],
   "source": [
    "region = Map3.draw_last_feature\n",
    "roi=region.geometry()\n",
    "print(roi.getInfo())"
   ]
  },
  {
   "cell_type": "markdown",
   "metadata": {},
   "source": [
    "### Or just select a geometry"
   ]
  },
  {
   "cell_type": "code",
   "execution_count": null,
   "metadata": {},
   "outputs": [],
   "source": [
    "roi = ee.Geometry.Polygon(\n",
    "    [[[106.269001, 14.478194], [106.269001, 15.515808], [107.309188, 15.515808], \n",
    "      [107.309188, 14.478194], [106.269001, 14.478194]]], None, False)"
   ]
  },
  {
   "cell_type": "markdown",
   "metadata": {},
   "source": [
    "### Select the band from MODIS and the frames per second"
   ]
  },
  {
   "cell_type": "code",
   "execution_count": null,
   "metadata": {},
   "outputs": [],
   "source": [
    "video_args = {\n",
    "  'dimensions': 768,\n",
    "  'region': roi,\n",
    "  'framesPerSecond': 1,\n",
    "  'bands': ['LC_Type1'],\n",
    "  'min': 1.0,\n",
    "  'max': 17.0,\n",
    "  'palette': ['05450a', '086a10', '54a708', '78d203', '009900', 'c6b044', 'dcd159',\n",
    "    'dade48', 'fbff13', 'b6ff05', '27ff87', 'c24f44', 'a5a5a5', 'ff6d4c',\n",
    "    '69fff8', 'f9ffa4', '1c0dff']\n",
    "}"
   ]
  },
  {
   "cell_type": "code",
   "execution_count": null,
   "metadata": {},
   "outputs": [],
   "source": [
    "work_dir = os.path.join(os.path.expanduser(\"~\"), 'Downloads')\n",
    "if not os.path.exists(work_dir):\n",
    "    os.makedirs(work_dir)\n",
    "out_gif = os.path.join(work_dir, \"landcover_ts.gif\")"
   ]
  },
  {
   "cell_type": "code",
   "execution_count": null,
   "metadata": {},
   "outputs": [],
   "source": [
    "geemap.download_ee_video(MODIS2, video_args, out_gif)"
   ]
  },
  {
   "cell_type": "code",
   "execution_count": null,
   "metadata": {},
   "outputs": [],
   "source": [
    "geemap.show_image(out_gif)"
   ]
  },
  {
   "cell_type": "markdown",
   "metadata": {},
   "source": [
    "### Add the labels"
   ]
  },
  {
   "cell_type": "code",
   "execution_count": null,
   "metadata": {},
   "outputs": [],
   "source": [
    "texted_gif = os.path.join(work_dir, \"landcover_ts_text.gif\")\n",
    "geemap.add_text_to_gif(out_gif, texted_gif, xy=('70%', '5%'), text_sequence=MODIS2_layer_names, font_size=30, font_color='#000000', add_progress_bar=True,duration=1000)"
   ]
  },
  {
   "cell_type": "code",
   "execution_count": null,
   "metadata": {},
   "outputs": [],
   "source": [
    "label = 'Natural Degradation South Laos'\n",
    "geemap.add_text_to_gif(texted_gif, texted_gif, xy=('15%', '88%'), text_sequence=label, font_size=30, font_color='#000000', progress_bar_color='red',duration=1000)"
   ]
  },
  {
   "cell_type": "code",
   "execution_count": null,
   "metadata": {},
   "outputs": [],
   "source": [
    "geemap.show_image(texted_gif)"
   ]
  },
  {
   "cell_type": "code",
   "execution_count": null,
   "metadata": {},
   "outputs": [],
   "source": []
  }
 ],
 "metadata": {
  "kernelspec": {
   "display_name": "Python 3",
   "language": "python",
   "name": "python3"
  },
  "language_info": {
   "codemirror_mode": {
    "name": "ipython",
    "version": 3
   },
   "file_extension": ".py",
   "mimetype": "text/x-python",
   "name": "python",
   "nbconvert_exporter": "python",
   "pygments_lexer": "ipython3",
   "version": "3.8.5"
  }
 },
 "nbformat": 4,
 "nbformat_minor": 4
}
